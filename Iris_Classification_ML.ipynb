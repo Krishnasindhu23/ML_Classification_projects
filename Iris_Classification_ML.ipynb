{
  "nbformat": 4,
  "nbformat_minor": 0,
  "metadata": {
    "colab": {
      "name": "Iris_Classification_ML.ipynb",
      "provenance": [],
      "authorship_tag": "ABX9TyPPW88OfTUbTkRgB4XWVUcX",
      "include_colab_link": true
    },
    "kernelspec": {
      "name": "python3",
      "display_name": "Python 3"
    },
    "language_info": {
      "name": "python"
    }
  },
  "cells": [
    {
      "cell_type": "markdown",
      "metadata": {
        "id": "view-in-github",
        "colab_type": "text"
      },
      "source": [
        "<a href=\"https://colab.research.google.com/github/Krishnasindhu23/ML_Classification_projects/blob/main/Iris_Classification_ML.ipynb\" target=\"_parent\"><img src=\"https://colab.research.google.com/assets/colab-badge.svg\" alt=\"Open In Colab\"/></a>"
      ]
    },
    {
      "cell_type": "code",
      "metadata": {
        "colab": {
          "base_uri": "https://localhost:8080/"
        },
        "id": "BCGnJGCeZBxu",
        "outputId": "53b240ef-ea5c-4e46-8c1e-08d93e4f1eb1"
      },
      "source": [
        "from  sklearn import  datasets\n",
        "iris=datasets.load_iris()\n",
        "print(list(iris.target_names))"
      ],
      "execution_count": null,
      "outputs": [
        {
          "output_type": "stream",
          "text": [
            "['setosa', 'versicolor', 'virginica']\n"
          ],
          "name": "stdout"
        }
      ]
    },
    {
      "cell_type": "code",
      "metadata": {
        "colab": {
          "base_uri": "https://localhost:8080/"
        },
        "id": "yUB0GYIwZHgl",
        "outputId": "6024c555-b697-445d-96c6-67a369402bc3"
      },
      "source": [
        "x=iris.data\n",
        "y=iris.target\n",
        "#print(type(y))"
      ],
      "execution_count": null,
      "outputs": [
        {
          "output_type": "stream",
          "text": [
            "<class 'numpy.ndarray'>\n"
          ],
          "name": "stdout"
        }
      ]
    },
    {
      "cell_type": "code",
      "metadata": {
        "colab": {
          "base_uri": "https://localhost:8080/"
        },
        "id": "1lq5ypr6brrJ",
        "outputId": "2420725b-8b35-40db-b9e7-6342b8b0c4b1"
      },
      "source": [
        "for i,j in zip(x,y):\n",
        "  if j==0:\n",
        "    j='setosa'\n",
        "  elif j==1:\n",
        "    j='versicolor'\n",
        "  else:\n",
        "    j='virginica'\n",
        "  print(i,j)"
      ],
      "execution_count": null,
      "outputs": [
        {
          "output_type": "stream",
          "text": [
            "[5.1 3.5 1.4 0.2] setosa\n",
            "[4.9 3.  1.4 0.2] setosa\n",
            "[4.7 3.2 1.3 0.2] setosa\n",
            "[4.6 3.1 1.5 0.2] setosa\n",
            "[5.  3.6 1.4 0.2] setosa\n",
            "[5.4 3.9 1.7 0.4] setosa\n",
            "[4.6 3.4 1.4 0.3] setosa\n",
            "[5.  3.4 1.5 0.2] setosa\n",
            "[4.4 2.9 1.4 0.2] setosa\n",
            "[4.9 3.1 1.5 0.1] setosa\n",
            "[5.4 3.7 1.5 0.2] setosa\n",
            "[4.8 3.4 1.6 0.2] setosa\n",
            "[4.8 3.  1.4 0.1] setosa\n",
            "[4.3 3.  1.1 0.1] setosa\n",
            "[5.8 4.  1.2 0.2] setosa\n",
            "[5.7 4.4 1.5 0.4] setosa\n",
            "[5.4 3.9 1.3 0.4] setosa\n",
            "[5.1 3.5 1.4 0.3] setosa\n",
            "[5.7 3.8 1.7 0.3] setosa\n",
            "[5.1 3.8 1.5 0.3] setosa\n",
            "[5.4 3.4 1.7 0.2] setosa\n",
            "[5.1 3.7 1.5 0.4] setosa\n",
            "[4.6 3.6 1.  0.2] setosa\n",
            "[5.1 3.3 1.7 0.5] setosa\n",
            "[4.8 3.4 1.9 0.2] setosa\n",
            "[5.  3.  1.6 0.2] setosa\n",
            "[5.  3.4 1.6 0.4] setosa\n",
            "[5.2 3.5 1.5 0.2] setosa\n",
            "[5.2 3.4 1.4 0.2] setosa\n",
            "[4.7 3.2 1.6 0.2] setosa\n",
            "[4.8 3.1 1.6 0.2] setosa\n",
            "[5.4 3.4 1.5 0.4] setosa\n",
            "[5.2 4.1 1.5 0.1] setosa\n",
            "[5.5 4.2 1.4 0.2] setosa\n",
            "[4.9 3.1 1.5 0.2] setosa\n",
            "[5.  3.2 1.2 0.2] setosa\n",
            "[5.5 3.5 1.3 0.2] setosa\n",
            "[4.9 3.6 1.4 0.1] setosa\n",
            "[4.4 3.  1.3 0.2] setosa\n",
            "[5.1 3.4 1.5 0.2] setosa\n",
            "[5.  3.5 1.3 0.3] setosa\n",
            "[4.5 2.3 1.3 0.3] setosa\n",
            "[4.4 3.2 1.3 0.2] setosa\n",
            "[5.  3.5 1.6 0.6] setosa\n",
            "[5.1 3.8 1.9 0.4] setosa\n",
            "[4.8 3.  1.4 0.3] setosa\n",
            "[5.1 3.8 1.6 0.2] setosa\n",
            "[4.6 3.2 1.4 0.2] setosa\n",
            "[5.3 3.7 1.5 0.2] setosa\n",
            "[5.  3.3 1.4 0.2] setosa\n",
            "[7.  3.2 4.7 1.4] versicolor\n",
            "[6.4 3.2 4.5 1.5] versicolor\n",
            "[6.9 3.1 4.9 1.5] versicolor\n",
            "[5.5 2.3 4.  1.3] versicolor\n",
            "[6.5 2.8 4.6 1.5] versicolor\n",
            "[5.7 2.8 4.5 1.3] versicolor\n",
            "[6.3 3.3 4.7 1.6] versicolor\n",
            "[4.9 2.4 3.3 1. ] versicolor\n",
            "[6.6 2.9 4.6 1.3] versicolor\n",
            "[5.2 2.7 3.9 1.4] versicolor\n",
            "[5.  2.  3.5 1. ] versicolor\n",
            "[5.9 3.  4.2 1.5] versicolor\n",
            "[6.  2.2 4.  1. ] versicolor\n",
            "[6.1 2.9 4.7 1.4] versicolor\n",
            "[5.6 2.9 3.6 1.3] versicolor\n",
            "[6.7 3.1 4.4 1.4] versicolor\n",
            "[5.6 3.  4.5 1.5] versicolor\n",
            "[5.8 2.7 4.1 1. ] versicolor\n",
            "[6.2 2.2 4.5 1.5] versicolor\n",
            "[5.6 2.5 3.9 1.1] versicolor\n",
            "[5.9 3.2 4.8 1.8] versicolor\n",
            "[6.1 2.8 4.  1.3] versicolor\n",
            "[6.3 2.5 4.9 1.5] versicolor\n",
            "[6.1 2.8 4.7 1.2] versicolor\n",
            "[6.4 2.9 4.3 1.3] versicolor\n",
            "[6.6 3.  4.4 1.4] versicolor\n",
            "[6.8 2.8 4.8 1.4] versicolor\n",
            "[6.7 3.  5.  1.7] versicolor\n",
            "[6.  2.9 4.5 1.5] versicolor\n",
            "[5.7 2.6 3.5 1. ] versicolor\n",
            "[5.5 2.4 3.8 1.1] versicolor\n",
            "[5.5 2.4 3.7 1. ] versicolor\n",
            "[5.8 2.7 3.9 1.2] versicolor\n",
            "[6.  2.7 5.1 1.6] versicolor\n",
            "[5.4 3.  4.5 1.5] versicolor\n",
            "[6.  3.4 4.5 1.6] versicolor\n",
            "[6.7 3.1 4.7 1.5] versicolor\n",
            "[6.3 2.3 4.4 1.3] versicolor\n",
            "[5.6 3.  4.1 1.3] versicolor\n",
            "[5.5 2.5 4.  1.3] versicolor\n",
            "[5.5 2.6 4.4 1.2] versicolor\n",
            "[6.1 3.  4.6 1.4] versicolor\n",
            "[5.8 2.6 4.  1.2] versicolor\n",
            "[5.  2.3 3.3 1. ] versicolor\n",
            "[5.6 2.7 4.2 1.3] versicolor\n",
            "[5.7 3.  4.2 1.2] versicolor\n",
            "[5.7 2.9 4.2 1.3] versicolor\n",
            "[6.2 2.9 4.3 1.3] versicolor\n",
            "[5.1 2.5 3.  1.1] versicolor\n",
            "[5.7 2.8 4.1 1.3] versicolor\n",
            "[6.3 3.3 6.  2.5] virginica\n",
            "[5.8 2.7 5.1 1.9] virginica\n",
            "[7.1 3.  5.9 2.1] virginica\n",
            "[6.3 2.9 5.6 1.8] virginica\n",
            "[6.5 3.  5.8 2.2] virginica\n",
            "[7.6 3.  6.6 2.1] virginica\n",
            "[4.9 2.5 4.5 1.7] virginica\n",
            "[7.3 2.9 6.3 1.8] virginica\n",
            "[6.7 2.5 5.8 1.8] virginica\n",
            "[7.2 3.6 6.1 2.5] virginica\n",
            "[6.5 3.2 5.1 2. ] virginica\n",
            "[6.4 2.7 5.3 1.9] virginica\n",
            "[6.8 3.  5.5 2.1] virginica\n",
            "[5.7 2.5 5.  2. ] virginica\n",
            "[5.8 2.8 5.1 2.4] virginica\n",
            "[6.4 3.2 5.3 2.3] virginica\n",
            "[6.5 3.  5.5 1.8] virginica\n",
            "[7.7 3.8 6.7 2.2] virginica\n",
            "[7.7 2.6 6.9 2.3] virginica\n",
            "[6.  2.2 5.  1.5] virginica\n",
            "[6.9 3.2 5.7 2.3] virginica\n",
            "[5.6 2.8 4.9 2. ] virginica\n",
            "[7.7 2.8 6.7 2. ] virginica\n",
            "[6.3 2.7 4.9 1.8] virginica\n",
            "[6.7 3.3 5.7 2.1] virginica\n",
            "[7.2 3.2 6.  1.8] virginica\n",
            "[6.2 2.8 4.8 1.8] virginica\n",
            "[6.1 3.  4.9 1.8] virginica\n",
            "[6.4 2.8 5.6 2.1] virginica\n",
            "[7.2 3.  5.8 1.6] virginica\n",
            "[7.4 2.8 6.1 1.9] virginica\n",
            "[7.9 3.8 6.4 2. ] virginica\n",
            "[6.4 2.8 5.6 2.2] virginica\n",
            "[6.3 2.8 5.1 1.5] virginica\n",
            "[6.1 2.6 5.6 1.4] virginica\n",
            "[7.7 3.  6.1 2.3] virginica\n",
            "[6.3 3.4 5.6 2.4] virginica\n",
            "[6.4 3.1 5.5 1.8] virginica\n",
            "[6.  3.  4.8 1.8] virginica\n",
            "[6.9 3.1 5.4 2.1] virginica\n",
            "[6.7 3.1 5.6 2.4] virginica\n",
            "[6.9 3.1 5.1 2.3] virginica\n",
            "[5.8 2.7 5.1 1.9] virginica\n",
            "[6.8 3.2 5.9 2.3] virginica\n",
            "[6.7 3.3 5.7 2.5] virginica\n",
            "[6.7 3.  5.2 2.3] virginica\n",
            "[6.3 2.5 5.  1.9] virginica\n",
            "[6.5 3.  5.2 2. ] virginica\n",
            "[6.2 3.4 5.4 2.3] virginica\n",
            "[5.9 3.  5.1 1.8] virginica\n"
          ],
          "name": "stdout"
        }
      ]
    },
    {
      "cell_type": "code",
      "metadata": {
        "id": "UsBzGlw3Zviu"
      },
      "source": [
        "from sklearn.model_selection import train_test_split\n",
        "x_train,x_test,y_train,y_test=train_test_split(x,y,test_size=.5)"
      ],
      "execution_count": null,
      "outputs": []
    },
    {
      "cell_type": "code",
      "metadata": {
        "id": "pCR-h8ZlaI2i"
      },
      "source": [
        "from sklearn import tree\n",
        "classifier=tree.DecisionTreeClassifier()"
      ],
      "execution_count": null,
      "outputs": []
    },
    {
      "cell_type": "code",
      "metadata": {
        "colab": {
          "base_uri": "https://localhost:8080/"
        },
        "id": "xSAKZrZyaSGB",
        "outputId": "17b07e16-02d3-4d14-cf29-3fbde3ad57ce"
      },
      "source": [
        "classifier.fit(x_train,y_train)"
      ],
      "execution_count": null,
      "outputs": [
        {
          "output_type": "execute_result",
          "data": {
            "text/plain": [
              "DecisionTreeClassifier(ccp_alpha=0.0, class_weight=None, criterion='gini',\n",
              "                       max_depth=None, max_features=None, max_leaf_nodes=None,\n",
              "                       min_impurity_decrease=0.0, min_impurity_split=None,\n",
              "                       min_samples_leaf=1, min_samples_split=2,\n",
              "                       min_weight_fraction_leaf=0.0, presort='deprecated',\n",
              "                       random_state=None, splitter='best')"
            ]
          },
          "metadata": {
            "tags": []
          },
          "execution_count": 31
        }
      ]
    },
    {
      "cell_type": "code",
      "metadata": {
        "id": "f_ZdHTmDaaY6"
      },
      "source": [
        "predictions=classifier.predict(x_test)"
      ],
      "execution_count": null,
      "outputs": []
    },
    {
      "cell_type": "code",
      "metadata": {
        "colab": {
          "base_uri": "https://localhost:8080/"
        },
        "id": "Ig64t10LakpH",
        "outputId": "9b6a9334-d2a7-490f-80c5-15a3c2a158e9"
      },
      "source": [
        "from sklearn.metrics import accuracy_score\n",
        "print(accuracy_score(y_test,predictions))"
      ],
      "execution_count": null,
      "outputs": [
        {
          "output_type": "stream",
          "text": [
            "0.8933333333333333\n"
          ],
          "name": "stdout"
        }
      ]
    },
    {
      "cell_type": "code",
      "metadata": {
        "id": "oPlpJyRNavzg"
      },
      "source": [
        "#Using KNeighboursClassifier\n",
        "from sklearn import neighbors\n",
        "cl=neighbors.KNeighborsClassifier()"
      ],
      "execution_count": null,
      "outputs": []
    },
    {
      "cell_type": "code",
      "metadata": {
        "colab": {
          "base_uri": "https://localhost:8080/"
        },
        "id": "zwkqsShHbBHZ",
        "outputId": "b1e62d0c-fb47-41d5-a13a-31310011eda8"
      },
      "source": [
        "cl.fit(x_train,y_train)\n",
        "predictions=cl.predict(x_test)\n",
        "print(accuracy_score(y_test,predictions))"
      ],
      "execution_count": null,
      "outputs": [
        {
          "output_type": "stream",
          "text": [
            "0.9333333333333333\n"
          ],
          "name": "stdout"
        }
      ]
    },
    {
      "cell_type": "code",
      "metadata": {
        "id": "YfA6mIjsbSaY",
        "colab": {
          "base_uri": "https://localhost:8080/"
        },
        "outputId": "9159be54-d062-4d96-9bc9-8e2a30eb66d6"
      },
      "source": [
        "!git clone https://github.com/Krishnasindhu23/ML_Classification_projects.git\n"
      ],
      "execution_count": 37,
      "outputs": [
        {
          "output_type": "stream",
          "text": [
            "Cloning into 'ML_Classification_projects'...\n",
            "remote: Enumerating objects: 3, done.\u001b[K\n",
            "remote: Counting objects: 100% (3/3), done.\u001b[K\n",
            "remote: Compressing objects: 100% (2/2), done.\u001b[K\n",
            "remote: Total 3 (delta 0), reused 0 (delta 0), pack-reused 0\u001b[K\n",
            "Unpacking objects: 100% (3/3), done.\n"
          ],
          "name": "stdout"
        }
      ]
    },
    {
      "cell_type": "code",
      "metadata": {
        "id": "LT-MzoYekZus"
      },
      "source": [
        ""
      ],
      "execution_count": null,
      "outputs": []
    }
  ]
}